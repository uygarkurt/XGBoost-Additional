{
 "cells": [
  {
   "cell_type": "code",
   "execution_count": 27,
   "metadata": {},
   "outputs": [],
   "source": [
    "import sklearn\n",
    "import xgboost as xgb\n",
    "import joblib\n",
    "import numpy as np\n",
    "import matplotlib.pyplot as plt\n",
    "from sklearn.datasets import load_breast_cancer\n",
    "from sklearn.tree import DecisionTreeClassifier\n",
    "from sklearn.ensemble import GradientBoostingClassifier"
   ]
  },
  {
   "cell_type": "code",
   "execution_count": 3,
   "metadata": {},
   "outputs": [
    {
     "name": "stdout",
     "output_type": "stream",
     "text": [
      "1.0 \n",
      " 0.9790209790209791\n"
     ]
    }
   ],
   "source": [
    "cancer=load_breast_cancer()\n",
    "\n",
    "X_train, X_test, y_train, y_test=sklearn.model_selection.train_test_split(cancer.data, \n",
    "                                                                         cancer.target, \n",
    "                                                                         random_state=0)\n",
    "xg_clas=xgb.XGBClassifier(random_state=1, n_estimators=100).fit(X_train, y_train)\n",
    "print(xg_clas.score(X_train, y_train),\"\\n\", xg_clas.score(X_test, y_test))"
   ]
  },
  {
   "cell_type": "code",
   "execution_count": 51,
   "metadata": {},
   "outputs": [],
   "source": [
    "def treeOutput(obj, treeIndex, Ex):\n",
    "    dump_list=obj.get_booster().get_dump()\n",
    "    num_t=len(dump_list)\n",
    "    preds=[]\n",
    "    if(treeIndex==0):\n",
    "        preds.append(obj.predict(X_test[Ex].reshape(1, -1), ntree_limit=treeIndex+1, output_margin=True))\n",
    "        answer= preds[0]\n",
    "        if(answer>0):\n",
    "            return 1\n",
    "        elif(answer<=0):\n",
    "            return 0\n",
    "    elif(treeIndex>0 and treeIndex<num_t):\n",
    "        preds.append(obj.predict(X_test[Ex].reshape(1, -1), ntree_limit=treeIndex+1, output_margin=True))\n",
    "        preds.append(obj.predict(X_test[Ex].reshape(1, -1), ntree_limit=treeIndex, output_margin=True))\n",
    "        answer=preds[0]-preds[1]\n",
    "        if(answer>0):\n",
    "            return 1\n",
    "        elif(answer<=0):\n",
    "            return 0\n",
    "    else:\n",
    "        print(\"Tree Index Out of Range\")"
   ]
  },
  {
   "cell_type": "code",
   "execution_count": 52,
   "metadata": {},
   "outputs": [
    {
     "name": "stdout",
     "output_type": "stream",
     "text": [
      "(143, 100)\n"
     ]
    }
   ],
   "source": [
    "dump_list=xg_clas.get_booster().get_dump()\n",
    "num_t=len(dump_list)\n",
    "\n",
    "num_ex=X_test.shape[0]\n",
    "\n",
    "m_matrix=np.zeros([num_ex, num_t])\n",
    "print(m_matrix.shape)"
   ]
  },
  {
   "cell_type": "code",
   "execution_count": 53,
   "metadata": {},
   "outputs": [],
   "source": [
    "for i in range(num_t):\n",
    "    for j in range(num_ex):\n",
    "        m_matrix[j][i]=treeOutput(xg_clas, i, j)"
   ]
  },
  {
   "cell_type": "code",
   "execution_count": 55,
   "metadata": {},
   "outputs": [
    {
     "name": "stdout",
     "output_type": "stream",
     "text": [
      "[[0. 0. 0. ... 1. 0. 0.]\n",
      " [1. 1. 1. ... 0. 1. 1.]\n",
      " [1. 1. 1. ... 1. 1. 1.]\n",
      " ...\n",
      " [1. 1. 1. ... 1. 1. 1.]\n",
      " [1. 1. 1. ... 0. 1. 1.]\n",
      " [0. 0. 0. ... 0. 0. 0.]]\n"
     ]
    }
   ],
   "source": [
    "print(m_matrix)"
   ]
  },
  {
   "cell_type": "code",
   "execution_count": 66,
   "metadata": {},
   "outputs": [
    {
     "name": "stdout",
     "output_type": "stream",
     "text": [
      "[0. 1. 1. 1. 1. 1. 1. 1. 1. 1. 1. 1. 1. 0. 1. 0. 1. 0. 0. 0. 0. 0. 1. 1.\n",
      " 0. 1. 1. 0. 1. 0. 1. 0. 1. 0. 1. 0. 1. 0. 1. 0. 0. 1. 0. 1. 1. 0. 1. 1.\n",
      " 1. 0. 0. 0. 0. 1. 1. 1. 1. 1. 1. 0. 0. 0. 1. 1. 0. 1. 0. 0. 0. 1. 1. 0.\n",
      " 1. 1. 0. 1. 1. 1. 1. 1. 0. 0. 0. 1. 0. 1. 1. 1. 0. 0. 1. 1. 1. 0. 1. 1.\n",
      " 0. 1. 1. 1. 1. 1. 1. 1. 0. 1. 0. 1. 0. 0. 1. 0. 0. 1. 1. 1. 1. 1. 1. 1.\n",
      " 1. 1. 0. 1. 0. 1. 1. 1. 1. 1. 0. 1. 1. 1. 1. 1. 1. 0. 0. 1. 1. 1. 0.]\n"
     ]
    }
   ],
   "source": [
    "r_matrix=np.zeros([num_ex])\n",
    "r_matrix.reshape(1, -1)\n",
    "for i in range(num_ex):\n",
    "    r_matrix[i]=xg_clas.predict(X_test[i].reshape(1, -1))\n",
    "print(r_matrix)"
   ]
  },
  {
   "cell_type": "code",
   "execution_count": 88,
   "metadata": {},
   "outputs": [
    {
     "name": "stdout",
     "output_type": "stream",
     "text": [
      "[['YES' 'YES' 'YES' ... 'NO' 'YES' 'YES']\n",
      " ['YES' 'YES' 'YES' ... 'NO' 'YES' 'YES']\n",
      " ['YES' 'YES' 'YES' ... 'YES' 'YES' 'YES']\n",
      " ...\n",
      " ['YES' 'YES' 'YES' ... 'YES' 'YES' 'YES']\n",
      " ['YES' 'YES' 'YES' ... 'NO' 'YES' 'YES']\n",
      " ['YES' 'YES' 'YES' ... 'YES' 'YES' 'YES']]\n"
     ]
    }
   ],
   "source": [
    "f_matrix=np.empty([num_ex, num_t], dtype=object)\n",
    "for i in range(num_ex):\n",
    "    result=r_matrix[i]\n",
    "    for j in range(num_t):\n",
    "        if(m_matrix[i][j]==result):\n",
    "            f_matrix[i][j]=\"YES\"\n",
    "        else:\n",
    "            f_matrix[i][j]=\"NO\"\n",
    "print(f_matrix)"
   ]
  },
  {
   "cell_type": "code",
   "execution_count": null,
   "metadata": {},
   "outputs": [],
   "source": []
  }
 ],
 "metadata": {
  "kernelspec": {
   "display_name": "Python 3",
   "language": "python",
   "name": "python3"
  },
  "language_info": {
   "codemirror_mode": {
    "name": "ipython",
    "version": 3
   },
   "file_extension": ".py",
   "mimetype": "text/x-python",
   "name": "python",
   "nbconvert_exporter": "python",
   "pygments_lexer": "ipython3",
   "version": "3.7.3"
  }
 },
 "nbformat": 4,
 "nbformat_minor": 2
}
